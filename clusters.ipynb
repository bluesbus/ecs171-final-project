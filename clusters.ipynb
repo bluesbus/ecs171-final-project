{
 "cells": [
  {
   "cell_type": "code",
   "execution_count": 103,
   "metadata": {},
   "outputs": [],
   "source": [
    "import pandas as pd\n",
    "\n",
    "reviews = pd.read_json('data/ys-reviews-with-categories.json')\n",
    "\n",
    "restuarants = reviews.loc[reviews.category == \"restaurant\"]\n",
    "\n",
    "sample: list[str] = restuarants.sample(10000).text.tolist()"
   ]
  },
  {
   "cell_type": "code",
   "execution_count": 107,
   "metadata": {},
   "outputs": [],
   "source": [
    "from nltk.tokenize import sent_tokenize, word_tokenize\n",
    "from nltk.corpus import stopwords\n",
    "from string import punctuation\n",
    "\n",
    "import yake as yk\n",
    "\n",
    "stop_words = stopwords.words(\"english\")\n",
    "keyword_extractor = yk.KeywordExtractor(n=3,top=1000)\n",
    "filtered_words = []\n",
    "\n",
    "# def key_ngram_per_sentence (review_text) -> list[str]:\n",
    "#     sentences = sent_tokenize(review_text)\n",
    "#     key_ngrams = []\n",
    "#     for sentence in sentences:\n",
    "#         keywords = keyword_extractor.extract_keywords(removed_stopwords(sentence))\n",
    "#         if len(keywords) > 0: key_ngrams.append(keywords[0][0])\n",
    "#     return key_ngrams    \n",
    "    \n",
    "# def key_ngram (review_text) -> list[str]:\n",
    "#     key_ngrams = []\n",
    "#     keywords = keyword_extractor.extract_keywords(removed_stopwords(review_text))\n",
    "#     if len(keywords) > 0: key_ngrams.append(keywords[0][0])\n",
    "#     return key_ngrams    \n",
    "    \n",
    "def removed_stopwords(text: str) -> str:\n",
    "    # make lower case and remove all punctuations\n",
    "    text = text.lower().translate(str.maketrans('', '', punctuation))\n",
    "    tokens = word_tokenize(text)\n",
    "    # filter stopwords    \n",
    "    filtered = [word for word in tokens if word not in stop_words]\n",
    "    filtered = [word for word in tokens if word not in filtered_words]\n",
    "    return ' '.join(filtered)\n",
    "\n",
    "\n",
    "corpus = \"\\n\".join(sample)\n",
    "corpus = removed_stopwords(corpus)\n",
    "\n",
    "extractions = keyword_extractor.extract_keywords(corpus)\n",
    "\n",
    "with open('keywords.csv', 'w') as outfile:\n",
    "    outfile.write(pd.DataFrame(extractions).to_csv(index=False))\n",
    "\n",
    "# keywords = list(set([extraction[0] for extraction in extractions]))\n",
    "\n",
    "# keywords"
   ]
  },
  {
   "cell_type": "code",
   "execution_count": 101,
   "metadata": {},
   "outputs": [
    {
     "name": "stdout",
     "output_type": "stream",
     "text": [
      "Cluster 1: ['good food awesome', 'food good', 'good food fast', 'great fresh food', 'good tacos good', 'good food easy', 'good food nice', 'good service nice', 'great food fast', 'good food pizza', 'good food drink', 'flavor good food', 'good food bar', 'yummy food good', 'fries good food', 'sandwich food nice', 'good great', 'food tasted good', 'good service fast', 'fresh good food', 'good food love', 'good food open', 'great pretty good', 'good stuff food', 'good restaurant good', 'fresh food good', 'pretty good great', 'service pretty good', 'pretty good', 'fast food places', 'extremely good food', 'service nice place', 'food fast service', 'great food good', 'restaurant good food', 'good food portions', 'good great selection', 'good food items', 'good fast food', 'bar good food', 'good food great', 'fast food good', 'clean good food', 'food good drinks', 'good beer good', 'good food good', 'good food', 'dinners good food', 'kind good food', 'food good food', 'great good california', 'good', 'fast food restaurant', 'times good great', 'wines good food', 'amazing food good', 'pretty good food', 'food good deals', 'food fresh food', 'good nice service']\n",
      "Cluster 7: ['meal times place', 'great place', 'location great place', 'place good', 'place good service', 'cool place good', 'seating good place', 'good place', 'clean place good', 'good eats place', 'place good place', 'delicious great place', 'great place parking', 'great place excellent', 'place good food', 'food great place', 'place', 'great place good', 'good atmosphere place']\n",
      "Cluster 3: ['decent food food', 'price great food', 'rolls great food', 'good service', 'tacos good service', 'food good service', 'people great food', 'great service ive', 'service good food', 'great service great', 'great food translated', 'excellent food great', 'great service', 'great food horrible', 'great service found', 'malo great food', 'staff amazing food', 'excellent service foods', 'family great food', 'great service hot', 'mexican food great', 'staff great service', 'great service clean', 'cream great food', 'wings great food', 'food excellent food', 'beef great food', 'great great food', 'restaurant great food', 'visit good service', 'service good price', 'service slow good', 'service excellent food', 'great service nice', 'back great food', 'food good people', 'food tastes great', 'service great service', 'atmosphere great food', 'food great food', 'great food slow', 'great food amazing', 'customer service', 'great', 'customer service great', 'customer service service', 'food great service', 'great service good', 'bomb great food', 'decent good service', 'service hot food', 'quality food great', 'food', 'yum great food', 'great food', 'staff good food', 'service food', 'service', 'great service excellent', 'chicken great service', 'service great food', 'great customer service', 'great mexican food', 'attentive service food', 'great food lots', 'staff great food', 'food great atmosphere', 'food food', 'half great food', 'service yummy food', 'food horrible service', 'great food great', 'eat great service', 'great service dont', 'quality food food', 'excellent staff great', 'customer service food', 'service food great', 'enjoyed great food', 'great food decent', 'great food dont', 'food great location', 'atmosphere good service', 'food great staff', 'decent service food', 'yummy great food', 'fries great service', 'clean great service', 'food slow service', 'tasty great service', 'food great', 'great service pretty', 'food great customer']\n",
      "Cluster 6: ['friendly staff good', 'quick friendly service', 'friendly service food', 'good food friendly', 'staff friendly service', 'food friendly staff', 'friendly good food', 'great pizza friendly', 'service friendly people', 'great service friendly', 'great staff friendly', 'good friendly service', 'friendly service', 'friendly service love', 'good service friendly', 'pizza friendly service', 'food awesome friendly']\n",
      "Cluster 2: ['delicious food', 'delicious food great', 'restaurant delicious food', 'people delicious food', 'atmosphere delicious food', 'service delicious food', 'delicious good food', 'delicious delicious good', 'delicious food fresh']\n"
     ]
    }
   ],
   "source": [
    "from sklearn.feature_extraction.text import TfidfVectorizer\n",
    "from sklearn.metrics.pairwise import cosine_similarity\n",
    "from sklearn.cluster import AgglomerativeClustering\n",
    "\n",
    "# Sample trigrams\n",
    "trigrams = keywords\n",
    "\n",
    "# Convert trigrams to TF-IDF vectors\n",
    "vectorizer = TfidfVectorizer()\n",
    "tfidf_matrix = vectorizer.fit_transform(trigrams)\n",
    "\n",
    "# Calculate cosine similarity matrix\n",
    "cosine_sim_matrix = cosine_similarity(tfidf_matrix, tfidf_matrix)\n",
    "\n",
    "# Perform hierarchical clustering\n",
    "n_clusters = 7  # You can adjust the number of clusters\n",
    "clustering = AgglomerativeClustering(n_clusters=n_clusters, metric='cosine', linkage='average')\n",
    "cluster_labels = clustering.fit_predict(cosine_sim_matrix)\n",
    "\n",
    "# Assign trigrams to clusters\n",
    "trigram_clusters = {}\n",
    "for trigram, label in zip(trigrams, cluster_labels):\n",
    "    if label not in trigram_clusters:\n",
    "        trigram_clusters[label] = []\n",
    "    trigram_clusters[label].append(trigram)\n",
    "\n",
    "# Print the trigram clusters\n",
    "for label, cluster in trigram_clusters.items():\n",
    "    if len(cluster) > 1 : print(f'Cluster {label + 1}: {cluster}')\n"
   ]
  },
  {
   "cell_type": "code",
   "execution_count": null,
   "metadata": {},
   "outputs": [],
   "source": []
  }
 ],
 "metadata": {
  "kernelspec": {
   "display_name": "Python 3",
   "language": "python",
   "name": "python3"
  },
  "language_info": {
   "codemirror_mode": {
    "name": "ipython",
    "version": 3
   },
   "file_extension": ".py",
   "mimetype": "text/x-python",
   "name": "python",
   "nbconvert_exporter": "python",
   "pygments_lexer": "ipython3",
   "version": "3.9.2"
  }
 },
 "nbformat": 4,
 "nbformat_minor": 2
}
