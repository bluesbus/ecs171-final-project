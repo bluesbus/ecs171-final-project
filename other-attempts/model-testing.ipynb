{
 "cells": [
  {
   "cell_type": "markdown",
   "metadata": {},
   "source": [
    "Little exercise on using engrams to predict positive or negative sentiment. "
   ]
  },
  {
   "cell_type": "code",
   "execution_count": 12,
   "metadata": {},
   "outputs": [],
   "source": [
    "import csv\n",
    "import json\n",
    "from nltk import ngrams\n",
    "from nltk.classify import NaiveBayesClassifier\n",
    "import nltk"
   ]
  },
  {
   "cell_type": "code",
   "execution_count": 14,
   "metadata": {},
   "outputs": [],
   "source": [
    "# Function to extract bigrams and trigrams from a text\n",
    "def extract_ngrams(text):\n",
    "    bigrams = list(ngrams(text.split(), 2))\n",
    "    trigrams = list(ngrams(text.split(), 3))\n",
    "    return {ngram: True for ngram in bigrams + trigrams}\n",
    "\n",
    "# Read the CSV file and create a mapping from gmap_id to category\n",
    "category_mapping = {}\n",
    "with open('yolosac3.csv', mode='r', encoding='utf-8') as csvfile:\n",
    "    reader = csv.DictReader(csvfile)\n",
    "    for row in reader:\n",
    "        gmap_id = row['gmap_id']\n",
    "        category = row['category']\n",
    "        category_mapping[gmap_id] = category\n",
    "\n",
    "# Read the JSON file\n",
    "with open('data/yolosac-reviews.json', 'r') as file:\n",
    "    reviews_data = json.load(file)\n",
    "\n",
    "# Combine the data\n",
    "combined_reviews = []\n",
    "for review in reviews_data:\n",
    "    gmap_id = review['gmap_id']\n",
    "    category = category_mapping.get(gmap_id, 'Unknown')  # Default to 'Unknown' if no category found\n",
    "    if review.get('rating') is not None and isinstance(review['rating'], int):\n",
    "        sentiment = 'pos' if review['rating'] >= 4 else 'neg'\n",
    "        combined_reviews.append((review['text'] + \" \" + category, sentiment))\n",
    "\n",
    "# Split data into training and testing sets\n",
    "split_index = int(0.8 * len(combined_reviews))\n",
    "training_data = combined_reviews[:split_index]\n",
    "testing_data = combined_reviews[split_index:]\n",
    "\n",
    "# Extract ngrams and create feature sets\n",
    "features = [(extract_ngrams(text), label) for (text, label) in training_data]\n",
    "\n",
    "# Train a Naive Bayes classifier\n",
    "classifier = NaiveBayesClassifier.train(features)\n",
    "\n",
    "# Evaluate the classifier\n",
    "accuracy = nltk.classify.accuracy(classifier, [(extract_ngrams(text), label) for (text, label) in testing_data])\n",
    "print(\"Accuracy:\", accuracy)\n",
    "\n",
    "# Predict the sentiment of a new review\n",
    "review = \"The service was not good at all\"\n",
    "ngrams = extract_ngrams(review)\n",
    "sentiment = classifier.classify(ngrams)\n",
    "print(\"Sentiment:\", sentiment)"
   ]
  }
 ],
 "metadata": {
  "kernelspec": {
   "display_name": "base",
   "language": "python",
   "name": "python3"
  },
  "language_info": {
   "codemirror_mode": {
    "name": "ipython",
    "version": 3
   },
   "file_extension": ".py",
   "mimetype": "text/x-python",
   "name": "python",
   "nbconvert_exporter": "python",
   "pygments_lexer": "ipython3",
   "version": "3.11.5"
  }
 },
 "nbformat": 4,
 "nbformat_minor": 2
}
