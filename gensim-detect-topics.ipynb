{
 "cells": [
  {
   "cell_type": "code",
   "execution_count": 2,
   "metadata": {},
   "outputs": [
    {
     "data": {
      "text/plain": [
       "[('foods', 0.7469059824943542),\n",
       " ('supplies', 0.7264691591262817),\n",
       " ('products', 0.7225049138069153),\n",
       " ('meat', 0.7138239145278931),\n",
       " ('supply', 0.6732637882232666),\n",
       " ('feed', 0.670415461063385),\n",
       " ('medicines', 0.6687098145484924),\n",
       " ('meals', 0.6630423069000244),\n",
       " ('coffee', 0.6627735495567322),\n",
       " ('goods', 0.6610530614852905)]"
      ]
     },
     "execution_count": 2,
     "metadata": {},
     "output_type": "execute_result"
    }
   ],
   "source": [
    "import gensim.downloader as api\n",
    "# Credit: https://nlp.stanford.edu/projects/glove/\n",
    "key_vec = api.load('glove-wiki-gigaword-100')\n",
    "key_vec.most_similar('food')"
   ]
  },
  {
   "cell_type": "code",
   "execution_count": null,
   "metadata": {},
   "outputs": [],
   "source": [
    "# Classify if a phrase is similar to the words in a list\n",
    "# comp is a list of words related to a category, e.g. restaurant-related\n",
    "def is_it_similar(phrase, comp ,threshold):\n",
    "  words = phrase.split(' ')\n",
    "  for w in words:\n",
    "    for c in comp:\n",
    "      try:\n",
    "        sim_score = key_vec.similarity(w, c)\n",
    "      except KeyError:\n",
    "        sim_score = 0\n",
    "      if sim_score > threshold:\n",
    "        return True\n",
    "  return False"
   ]
  }
 ],
 "metadata": {
  "kernelspec": {
   "display_name": "base",
   "language": "python",
   "name": "python3"
  },
  "language_info": {
   "codemirror_mode": {
    "name": "ipython",
    "version": 3
   },
   "file_extension": ".py",
   "mimetype": "text/x-python",
   "name": "python",
   "nbconvert_exporter": "python",
   "pygments_lexer": "ipython3",
   "version": "3.11.5"
  }
 },
 "nbformat": 4,
 "nbformat_minor": 2
}
