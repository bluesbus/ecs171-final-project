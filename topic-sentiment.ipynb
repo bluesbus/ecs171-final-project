{
 "cells": [
  {
   "cell_type": "markdown",
   "metadata": {},
   "source": [
    "Using `processed_restaurant_reviews.json` which has sentences categorized as positive or negative sentiment."
   ]
  },
  {
   "cell_type": "code",
   "execution_count": 1,
   "metadata": {},
   "outputs": [],
   "source": [
    "import json\n",
    "\n",
    "with open('data/processed_restaurant_reviews.json', 'r') as file:\n",
    "  data = json.load(file)"
   ]
  },
  {
   "cell_type": "code",
   "execution_count": 13,
   "metadata": {},
   "outputs": [],
   "source": [
    "restaurant_list = data['restaurants']"
   ]
  },
  {
   "cell_type": "code",
   "execution_count": 17,
   "metadata": {},
   "outputs": [],
   "source": [
    "restaurant_topic_sentiment = {}\n",
    "topics = ['food', 'service', 'location', 'clean', 'price']\n",
    "for restaurant in restaurant_list:\n",
    "  positive = dict.fromkeys(topics, 0)\n",
    "  negative = dict.fromkeys(topics, 0)\n",
    "  # For each sentence in each review, tally up the number of positive and negative sentiments towards a topic\n",
    "  for review in restaurant['reviews']:\n",
    "    for sentence in review['sentences']:\n",
    "      if sentence['sentiment'] == 'POSITIVE':\n",
    "        for topic in sentence['topics']:\n",
    "          positive[topic] += 1\n",
    "      else:\n",
    "        for topic in sentence['topics']:\n",
    "          negative[topic] += 1\n",
    "  # Find average number of positive and negative sentiments per review for a restaurant\n",
    "  for key in positive:\n",
    "    positive[key] /= float(len(restaurant['reviews']))\n",
    "  for key in negative:\n",
    "    negative[key] /= float(len(restaurant['reviews']))\n",
    "  # Save data to dictionary\n",
    "  restaurant_topic_sentiment[restaurant['gmap_id']] = {'positive': positive, 'negative': negative}\n"
   ]
  },
  {
   "cell_type": "code",
   "execution_count": 18,
   "metadata": {},
   "outputs": [],
   "source": [
    "with open('restaurant-topic-sentiment.json', 'w') as file:\n",
    "  json.dump(restaurant_topic_sentiment, file)"
   ]
  },
  {
   "cell_type": "markdown",
   "metadata": {},
   "source": [
    "Using `processed_restaurant_reviews_2.json`, which categorizes sentence sentiment into positive, neutral, or negative."
   ]
  },
  {
   "cell_type": "code",
   "execution_count": 20,
   "metadata": {},
   "outputs": [],
   "source": [
    "with open('data/processed_restaurant_reviews_2.json', 'r') as file:\n",
    "  data = json.load(file)"
   ]
  },
  {
   "cell_type": "code",
   "execution_count": 21,
   "metadata": {},
   "outputs": [],
   "source": [
    "restaurant_list = data['restaurants']\n",
    "restaurant_topic_sentiment = {}\n",
    "topics = ['food', 'service', 'location', 'clean', 'price']\n",
    "for restaurant in restaurant_list:\n",
    "  positive = dict.fromkeys(topics, 0)\n",
    "  neutral = dict.fromkeys(topics, 0)\n",
    "  negative = dict.fromkeys(topics, 0)\n",
    "  # For each sentence in each review, tally up the number of positive and negative sentiments towards a topic\n",
    "  for review in restaurant['reviews']:\n",
    "    for sentence in review['sentences']:\n",
    "      if sentence['sentiment'] == 'positive':\n",
    "        for topic in sentence['topics']:\n",
    "          positive[topic] += 1\n",
    "      elif sentence['sentiment'] == 'neutral':\n",
    "        for topic in sentence['topics']:\n",
    "          neutral[topic] += 1\n",
    "      else:\n",
    "        for topic in sentence['topics']:\n",
    "          negative[topic] += 1\n",
    "  # Find average number of positive and negative sentiments per review for a restaurant\n",
    "  for key in positive:\n",
    "    positive[key] /= float(len(restaurant['reviews']))\n",
    "  for key in negative:\n",
    "    negative[key] /= float(len(restaurant['reviews']))\n",
    "  # Save data to dictionary\n",
    "  restaurant_topic_sentiment[restaurant['gmap_id']] = {'positive': positive, 'neutral': neutral, 'negative': negative}\n",
    "\n",
    "with open('restaurant-topic-sentiment-2.json', 'w') as file:\n",
    "  json.dump(restaurant_topic_sentiment, file)"
   ]
  }
 ],
 "metadata": {
  "kernelspec": {
   "display_name": "base",
   "language": "python",
   "name": "python3"
  },
  "language_info": {
   "codemirror_mode": {
    "name": "ipython",
    "version": 3
   },
   "file_extension": ".py",
   "mimetype": "text/x-python",
   "name": "python",
   "nbconvert_exporter": "python",
   "pygments_lexer": "ipython3",
   "version": "3.11.5"
  }
 },
 "nbformat": 4,
 "nbformat_minor": 2
}
