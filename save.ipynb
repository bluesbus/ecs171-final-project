{
 "cells": [
  {
   "cell_type": "code",
   "execution_count": null,
   "metadata": {},
   "outputs": [],
   "source": [
    "import pandas as pd"
   ]
  },
  {
   "cell_type": "code",
   "execution_count": null,
   "metadata": {},
   "outputs": [],
   "source": [
    "# # modifies the json file to be readable. read from test from now on\n",
    "\n",
    "# with open('meta-California.json', 'r') as infile, open('test.json', 'w') as outfile:\n",
    "#     for line in infile:\n",
    "#         # Add a comma at the end of each line\n",
    "#         modified_line = line.rstrip() + ',\\n'\n",
    "#         # Write the modified line to the output file\n",
    "#         outfile.write(modified_line)\n",
    "\n",
    "# # Close the files\n",
    "# infile.close()\n",
    "# outfile.close()"
   ]
  },
  {
   "cell_type": "code",
   "execution_count": null,
   "metadata": {},
   "outputs": [],
   "source": [
    "cali = pd.read_json('test.json')"
   ]
  },
  {
   "cell_type": "code",
   "execution_count": null,
   "metadata": {},
   "outputs": [],
   "source": [
    "dropped = cali.drop(columns=['address', 'gmap_id', 'description', 'MISC', 'state', 'url', 'relative_results'])\n",
    "dropped = dropped.dropna()\n",
    "dropped.columns.tolist()"
   ]
  },
  {
   "cell_type": "code",
   "execution_count": null,
   "metadata": {},
   "outputs": [],
   "source": [
    "# price is a factor \n",
    "pd.get_dummies(dropped['price'])\n",
    "# category is an subset of 1465 categories\n",
    "dropped['category'].explode().unique().tolist()\n",
    "    # not sure what to do with that\n",
    "        # theres things like 'coffee shop' and 'coffee store'\n",
    "    # maybe we can try to reduce these categories somehow\n",
    "# hours is an array of an array [day of week, starthr-endhr]\n",
    "dropped['hours'].tolist()\n",
    "    # convert to total hours open?\n",
    "\n"
   ]
  },
  {
   "cell_type": "code",
   "execution_count": null,
   "metadata": {},
   "outputs": [],
   "source": [
    "import re\n",
    "\n",
    "def string_to_hours (string : str, AM = False) -> (float, bool):\n",
    "    match = re.match(r'(\\d+)(?::(\\d+))?(\\D*)', string)\n",
    "    hours, minutes, period = match.groups()\n",
    "    AM = (period == '' and AM) or period == \"AM\"\n",
    "    return (float(hours) + (0 if AM else 12) + (float(minutes) if minutes else 0) / 60, AM)"
   ]
  },
  {
   "cell_type": "code",
   "execution_count": null,
   "metadata": {},
   "outputs": [],
   "source": [
    "def range_to_hours (string: str) -> float:\n",
    "    if string == 'Open 24 hours': return 24\n",
    "    start, end = string.split('-')\n",
    "    endTime, endPeriod = string_to_hours(end)\n",
    "    startTime = string_to_hours(start, endPeriod)[0]\n",
    "    difference = endTime - startTime\n",
    "    return difference if difference > 0 else abs(24 + difference)\n",
    "\n",
    "range_to_hours('5PM-2AM')\n",
    "    "
   ]
  }
 ],
 "metadata": {
  "language_info": {
   "name": "python"
  }
 },
 "nbformat": 4,
 "nbformat_minor": 2
}
