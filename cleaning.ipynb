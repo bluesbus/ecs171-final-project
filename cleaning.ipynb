{
 "cells": [
  {
   "cell_type": "code",
   "execution_count": 3,
   "metadata": {},
   "outputs": [],
   "source": [
    "import pandas as pd"
   ]
  },
  {
   "cell_type": "code",
   "execution_count": 1,
   "metadata": {},
   "outputs": [],
   "source": [
    "# base json file needs to be encased on [] and have a comma separating each item\n",
    "# modifies the json file to be readable. into business.json\n",
    "\n",
    "import os.path\n",
    "\n",
    "def reformatJson():\n",
    "    with open('data/meta-California.json', 'r') as infile, open('data/business.json', 'w') as outfile:\n",
    "        outfile.write('[\\n')\n",
    "        lines = infile.readlines()\n",
    "\n",
    "        # adds comma to every line except last\n",
    "        for i, line in enumerate(lines):\n",
    "            if i < len(lines) - 1: line = line.rstrip() + ',\\n'\n",
    "            outfile.write(line)\n",
    "\n",
    "        outfile.write(']')\n",
    "\n",
    "    infile.close()\n",
    "    outfile.close()\n",
    "\n",
    "if not os.path.isfile('data/business.json') : reformatJson()"
   ]
  },
  {
   "cell_type": "code",
   "execution_count": 4,
   "metadata": {},
   "outputs": [],
   "source": [
    "cali = pd.read_json('data/business.json')"
   ]
  },
  {
   "cell_type": "code",
   "execution_count": 46,
   "metadata": {},
   "outputs": [
    {
     "data": {
      "text/plain": [
       "['name',\n",
       " 'address',\n",
       " 'latitude',\n",
       " 'longitude',\n",
       " 'category',\n",
       " 'avg_rating',\n",
       " 'num_of_reviews',\n",
       " 'hours']"
      ]
     },
     "execution_count": 46,
     "metadata": {},
     "output_type": "execute_result"
    }
   ],
   "source": [
    "dropped = cali.drop(columns=['gmap_id', 'description', 'MISC', 'state', 'url', 'relative_results'])\n",
    "dropped = dropped.drop(columns=['price']) # for now\n",
    "dropped = dropped.dropna()\n",
    "dropped.columns.tolist()"
   ]
  },
  {
   "cell_type": "code",
   "execution_count": 36,
   "metadata": {},
   "outputs": [
    {
     "data": {
      "text/plain": [
       "1465"
      ]
     },
     "execution_count": 36,
     "metadata": {},
     "output_type": "execute_result"
    }
   ],
   "source": [
    "# price is a factor \n",
    "# price_dummy = pd.get_dummies(dropped['price'])\n",
    "\n",
    "# # category is an subset of 1465 categories\n",
    "# dropped['category'].explode().unique().size\n",
    "#     # not sure what to do with that\n",
    "#         # theres things like 'coffee shop' and 'coffee store'\n",
    "#     # maybe we can try to reduce these categories somehow\n",
    "# # hours is an array of an array [day of week, starthr-endhr]"
   ]
  },
  {
   "cell_type": "code",
   "execution_count": 28,
   "metadata": {},
   "outputs": [],
   "source": [
    "import re\n",
    "\n",
    "def string_to_hours (string : str, AM = False) -> (float, bool):\n",
    "    match = re.match(r'(\\d+)(?::(\\d+))?(\\D*)', string)\n",
    "    hours, minutes, period = match.groups()\n",
    "    AM = (period == '' and AM) or period == \"AM\"\n",
    "    return (float(hours) + (0 if AM else 12) + (float(minutes) if minutes else 0) / 60, AM)\n",
    "\n",
    "def range_to_hours (string: str) -> float:\n",
    "    if string == 'Open 24 hours': return 24\n",
    "    elif string == 'Closed' : return 0\n",
    "    try:\n",
    "        start, end = string.split('–')\n",
    "        endTime, endPeriod = string_to_hours(end)\n",
    "        startTime = string_to_hours(start, endPeriod)[0]\n",
    "        difference = endTime - startTime\n",
    "        return difference if difference > 0 else 24 + difference\n",
    "    except:\n",
    "        raise Exception(\"Couldn't enumerate: \" + string)\n"
   ]
  },
  {
   "cell_type": "code",
   "execution_count": 43,
   "metadata": {},
   "outputs": [],
   "source": [
    "weekly_hours = dropped['hours'].map(\\\n",
    "    lambda entry: sum(map(\\\n",
    "        lambda day: range_to_hours(day[1]), entry)\\\n",
    "    )\\\n",
    ")"
   ]
  },
  {
   "cell_type": "code",
   "execution_count": 47,
   "metadata": {},
   "outputs": [
    {
     "data": {
      "text/html": [
       "<div>\n",
       "<style scoped>\n",
       "    .dataframe tbody tr th:only-of-type {\n",
       "        vertical-align: middle;\n",
       "    }\n",
       "\n",
       "    .dataframe tbody tr th {\n",
       "        vertical-align: top;\n",
       "    }\n",
       "\n",
       "    .dataframe thead th {\n",
       "        text-align: right;\n",
       "    }\n",
       "</style>\n",
       "<table border=\"1\" class=\"dataframe\">\n",
       "  <thead>\n",
       "    <tr style=\"text-align: right;\">\n",
       "      <th></th>\n",
       "      <th>name</th>\n",
       "      <th>address</th>\n",
       "      <th>latitude</th>\n",
       "      <th>longitude</th>\n",
       "      <th>category</th>\n",
       "      <th>avg_rating</th>\n",
       "      <th>num_of_reviews</th>\n",
       "      <th>weekly_hours</th>\n",
       "    </tr>\n",
       "  </thead>\n",
       "  <tbody>\n",
       "    <tr>\n",
       "      <th>1</th>\n",
       "      <td>San Soo Dang</td>\n",
       "      <td>San Soo Dang, 761 S Vermont Ave, Los Angeles, ...</td>\n",
       "      <td>34.058092</td>\n",
       "      <td>-118.292130</td>\n",
       "      <td>[Korean restaurant]</td>\n",
       "      <td>4.4</td>\n",
       "      <td>18</td>\n",
       "      <td>74.5</td>\n",
       "    </tr>\n",
       "    <tr>\n",
       "      <th>2</th>\n",
       "      <td>Nova Fabrics</td>\n",
       "      <td>Nova Fabrics, 2200 E 11th St, Los Angeles, CA ...</td>\n",
       "      <td>34.023669</td>\n",
       "      <td>-118.232930</td>\n",
       "      <td>[Fabric store]</td>\n",
       "      <td>3.3</td>\n",
       "      <td>6</td>\n",
       "      <td>40.0</td>\n",
       "    </tr>\n",
       "    <tr>\n",
       "      <th>3</th>\n",
       "      <td>Nobel Textile Co</td>\n",
       "      <td>Nobel Textile Co, 719 E 9th St, Los Angeles, C...</td>\n",
       "      <td>34.036694</td>\n",
       "      <td>-118.249421</td>\n",
       "      <td>[Fabric store]</td>\n",
       "      <td>4.3</td>\n",
       "      <td>7</td>\n",
       "      <td>40.0</td>\n",
       "    </tr>\n",
       "    <tr>\n",
       "      <th>4</th>\n",
       "      <td>Matrix International Textiles</td>\n",
       "      <td>Matrix International Textiles, 1363 S Bonnie B...</td>\n",
       "      <td>34.015505</td>\n",
       "      <td>-118.181839</td>\n",
       "      <td>[Fabric store]</td>\n",
       "      <td>3.5</td>\n",
       "      <td>6</td>\n",
       "      <td>45.0</td>\n",
       "    </tr>\n",
       "    <tr>\n",
       "      <th>5</th>\n",
       "      <td>Vons Chicken</td>\n",
       "      <td>Vons Chicken, 12740 La Mirada Blvd, La Mirada,...</td>\n",
       "      <td>33.916402</td>\n",
       "      <td>-118.010855</td>\n",
       "      <td>[Restaurant]</td>\n",
       "      <td>4.5</td>\n",
       "      <td>18</td>\n",
       "      <td>63.0</td>\n",
       "    </tr>\n",
       "  </tbody>\n",
       "</table>\n",
       "</div>"
      ],
      "text/plain": [
       "                            name  \\\n",
       "1                   San Soo Dang   \n",
       "2                   Nova Fabrics   \n",
       "3               Nobel Textile Co   \n",
       "4  Matrix International Textiles   \n",
       "5                   Vons Chicken   \n",
       "\n",
       "                                             address   latitude   longitude  \\\n",
       "1  San Soo Dang, 761 S Vermont Ave, Los Angeles, ...  34.058092 -118.292130   \n",
       "2  Nova Fabrics, 2200 E 11th St, Los Angeles, CA ...  34.023669 -118.232930   \n",
       "3  Nobel Textile Co, 719 E 9th St, Los Angeles, C...  34.036694 -118.249421   \n",
       "4  Matrix International Textiles, 1363 S Bonnie B...  34.015505 -118.181839   \n",
       "5  Vons Chicken, 12740 La Mirada Blvd, La Mirada,...  33.916402 -118.010855   \n",
       "\n",
       "              category  avg_rating  num_of_reviews  weekly_hours  \n",
       "1  [Korean restaurant]         4.4              18          74.5  \n",
       "2       [Fabric store]         3.3               6          40.0  \n",
       "3       [Fabric store]         4.3               7          40.0  \n",
       "4       [Fabric store]         3.5               6          45.0  \n",
       "5         [Restaurant]         4.5              18          63.0  "
      ]
     },
     "execution_count": 47,
     "metadata": {},
     "output_type": "execute_result"
    }
   ],
   "source": [
    "modified = dropped.copy()\n",
    "modified = modified.drop(columns=['hours'])\n",
    "modified['weekly_hours'] = weekly_hours\n",
    "modified.head()"
   ]
  }
 ],
 "metadata": {
  "kernelspec": {
   "display_name": "Python 3",
   "language": "python",
   "name": "python3"
  },
  "language_info": {
   "codemirror_mode": {
    "name": "ipython",
    "version": 3
   },
   "file_extension": ".py",
   "mimetype": "text/x-python",
   "name": "python",
   "nbconvert_exporter": "python",
   "pygments_lexer": "ipython3",
   "version": "3.9.2"
  }
 },
 "nbformat": 4,
 "nbformat_minor": 2
}
