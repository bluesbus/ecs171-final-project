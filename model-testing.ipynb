{
 "cells": [
  {
   "cell_type": "code",
   "execution_count": 12,
   "metadata": {},
   "outputs": [],
   "source": [
    "import csv\n",
    "import json\n",
    "from nltk import ngrams\n",
    "from nltk.classify import NaiveBayesClassifier\n",
    "import nltk"
   ]
  },
  {
   "cell_type": "code",
   "execution_count": 13,
   "metadata": {},
   "outputs": [
    {
     "ename": "FileNotFoundError",
     "evalue": "[Errno 2] No such file or directory: 'yolosac-reviews.json'",
     "output_type": "error",
     "traceback": [
      "\u001b[1;31m---------------------------------------------------------------------------\u001b[0m",
      "\u001b[1;31mFileNotFoundError\u001b[0m                         Traceback (most recent call last)",
      "\u001b[1;32mc:\\Users\\Nick\\Classes\\ECS 171\\finalproject\\model-testing.ipynb Cell 2\u001b[0m line \u001b[0;36m1\n\u001b[0;32m     <a href='vscode-notebook-cell:/c%3A/Users/Nick/Classes/ECS%20171/finalproject/model-testing.ipynb#W2sZmlsZQ%3D%3D?line=13'>14</a>\u001b[0m         category_mapping[gmap_id] \u001b[39m=\u001b[39m category\n\u001b[0;32m     <a href='vscode-notebook-cell:/c%3A/Users/Nick/Classes/ECS%20171/finalproject/model-testing.ipynb#W2sZmlsZQ%3D%3D?line=15'>16</a>\u001b[0m \u001b[39m# Read the JSON file\u001b[39;00m\n\u001b[1;32m---> <a href='vscode-notebook-cell:/c%3A/Users/Nick/Classes/ECS%20171/finalproject/model-testing.ipynb#W2sZmlsZQ%3D%3D?line=16'>17</a>\u001b[0m \u001b[39mwith\u001b[39;00m \u001b[39mopen\u001b[39m(\u001b[39m'\u001b[39m\u001b[39myolosac-reviews.json\u001b[39m\u001b[39m'\u001b[39m, \u001b[39m'\u001b[39m\u001b[39mr\u001b[39m\u001b[39m'\u001b[39m) \u001b[39mas\u001b[39;00m file:\n\u001b[0;32m     <a href='vscode-notebook-cell:/c%3A/Users/Nick/Classes/ECS%20171/finalproject/model-testing.ipynb#W2sZmlsZQ%3D%3D?line=17'>18</a>\u001b[0m     reviews_data \u001b[39m=\u001b[39m json\u001b[39m.\u001b[39mload(file)\n\u001b[0;32m     <a href='vscode-notebook-cell:/c%3A/Users/Nick/Classes/ECS%20171/finalproject/model-testing.ipynb#W2sZmlsZQ%3D%3D?line=19'>20</a>\u001b[0m \u001b[39m# Combine the data\u001b[39;00m\n",
      "File \u001b[1;32mc:\\Users\\Nick\\anaconda3\\Lib\\site-packages\\IPython\\core\\interactiveshell.py:286\u001b[0m, in \u001b[0;36m_modified_open\u001b[1;34m(file, *args, **kwargs)\u001b[0m\n\u001b[0;32m    279\u001b[0m \u001b[39mif\u001b[39;00m file \u001b[39min\u001b[39;00m {\u001b[39m0\u001b[39m, \u001b[39m1\u001b[39m, \u001b[39m2\u001b[39m}:\n\u001b[0;32m    280\u001b[0m     \u001b[39mraise\u001b[39;00m \u001b[39mValueError\u001b[39;00m(\n\u001b[0;32m    281\u001b[0m         \u001b[39mf\u001b[39m\u001b[39m\"\u001b[39m\u001b[39mIPython won\u001b[39m\u001b[39m'\u001b[39m\u001b[39mt let you open fd=\u001b[39m\u001b[39m{\u001b[39;00mfile\u001b[39m}\u001b[39;00m\u001b[39m by default \u001b[39m\u001b[39m\"\u001b[39m\n\u001b[0;32m    282\u001b[0m         \u001b[39m\"\u001b[39m\u001b[39mas it is likely to crash IPython. If you know what you are doing, \u001b[39m\u001b[39m\"\u001b[39m\n\u001b[0;32m    283\u001b[0m         \u001b[39m\"\u001b[39m\u001b[39myou can use builtins\u001b[39m\u001b[39m'\u001b[39m\u001b[39m open.\u001b[39m\u001b[39m\"\u001b[39m\n\u001b[0;32m    284\u001b[0m     )\n\u001b[1;32m--> 286\u001b[0m \u001b[39mreturn\u001b[39;00m io_open(file, \u001b[39m*\u001b[39margs, \u001b[39m*\u001b[39m\u001b[39m*\u001b[39mkwargs)\n",
      "\u001b[1;31mFileNotFoundError\u001b[0m: [Errno 2] No such file or directory: 'yolosac-reviews.json'"
     ]
    }
   ],
   "source": [
    "# Function to extract bigrams and trigrams from a text\n",
    "def extract_ngrams(text):\n",
    "    bigrams = list(ngrams(text.split(), 2))\n",
    "    trigrams = list(ngrams(text.split(), 3))\n",
    "    return {ngram: True for ngram in bigrams + trigrams}\n",
    "\n",
    "# Read the CSV file and create a mapping from gmap_id to category\n",
    "category_mapping = {}\n",
    "with open('yolosac3.csv', mode='r', encoding='utf-8') as csvfile:\n",
    "    reader = csv.DictReader(csvfile)\n",
    "    for row in reader:\n",
    "        gmap_id = row['gmap_id']\n",
    "        category = row['category']\n",
    "        category_mapping[gmap_id] = category\n",
    "\n",
    "# Read the JSON file\n",
    "with open('data/yolosac-reviews.json', 'r') as file:\n",
    "    reviews_data = json.load(file)\n",
    "\n",
    "# Combine the data\n",
    "combined_reviews = []\n",
    "for review in reviews_data:\n",
    "    gmap_id = review['gmap_id']\n",
    "    category = category_mapping.get(gmap_id, 'Unknown')  # Default to 'Unknown' if no category found\n",
    "    if review.get('rating') is not None and isinstance(review['rating'], int):\n",
    "        sentiment = 'pos' if review['rating'] >= 4 else 'neg'\n",
    "        combined_reviews.append((review['text'] + \" \" + category, sentiment))\n",
    "\n",
    "# Split data into training and testing sets\n",
    "split_index = int(0.8 * len(combined_reviews))\n",
    "training_data = combined_reviews[:split_index]\n",
    "testing_data = combined_reviews[split_index:]\n",
    "\n",
    "# Extract ngrams and create feature sets\n",
    "features = [(extract_ngrams(text), label) for (text, label) in training_data]\n",
    "\n",
    "# Train a Naive Bayes classifier\n",
    "classifier = NaiveBayesClassifier.train(features)\n",
    "\n",
    "# Evaluate the classifier\n",
    "accuracy = nltk.classify.accuracy(classifier, [(extract_ngrams(text), label) for (text, label) in testing_data])\n",
    "print(\"Accuracy:\", accuracy)\n",
    "\n",
    "# Predict the sentiment of a new review\n",
    "review = \"The service was not good at all\"\n",
    "ngrams = extract_ngrams(review)\n",
    "sentiment = classifier.classify(ngrams)\n",
    "print(\"Sentiment:\", sentiment)"
   ]
  }
 ],
 "metadata": {
  "kernelspec": {
   "display_name": "base",
   "language": "python",
   "name": "python3"
  },
  "language_info": {
   "codemirror_mode": {
    "name": "ipython",
    "version": 3
   },
   "file_extension": ".py",
   "mimetype": "text/x-python",
   "name": "python",
   "nbconvert_exporter": "python",
   "pygments_lexer": "ipython3",
   "version": "3.11.5"
  }
 },
 "nbformat": 4,
 "nbformat_minor": 2
}
