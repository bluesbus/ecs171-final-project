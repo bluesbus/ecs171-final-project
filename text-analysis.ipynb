{
 "cells": [
  {
   "cell_type": "code",
   "execution_count": 1,
   "metadata": {},
   "outputs": [
    {
     "data": {
      "text/html": [
       "<div>\n",
       "<style scoped>\n",
       "    .dataframe tbody tr th:only-of-type {\n",
       "        vertical-align: middle;\n",
       "    }\n",
       "\n",
       "    .dataframe tbody tr th {\n",
       "        vertical-align: top;\n",
       "    }\n",
       "\n",
       "    .dataframe thead th {\n",
       "        text-align: right;\n",
       "    }\n",
       "</style>\n",
       "<table border=\"1\" class=\"dataframe\">\n",
       "  <thead>\n",
       "    <tr style=\"text-align: right;\">\n",
       "      <th></th>\n",
       "      <th>text</th>\n",
       "      <th>rating</th>\n",
       "      <th>gmap_id</th>\n",
       "    </tr>\n",
       "  </thead>\n",
       "  <tbody>\n",
       "    <tr>\n",
       "      <th>0</th>\n",
       "      <td>Helped me alot. If it was for her suggesting m...</td>\n",
       "      <td>5.0</td>\n",
       "      <td>0x809ad993cd15cc69:0x38291ec9a11f59ed</td>\n",
       "    </tr>\n",
       "    <tr>\n",
       "      <th>1</th>\n",
       "      <td>Always leave feeling refreshed...polite and re...</td>\n",
       "      <td>5.0</td>\n",
       "      <td>0x809ad993cd15cc69:0x38291ec9a11f59ed</td>\n",
       "    </tr>\n",
       "    <tr>\n",
       "      <th>2</th>\n",
       "      <td>Professional massage place.  The ladies know w...</td>\n",
       "      <td>5.0</td>\n",
       "      <td>0x809ad993cd15cc69:0x38291ec9a11f59ed</td>\n",
       "    </tr>\n",
       "    <tr>\n",
       "      <th>3</th>\n",
       "      <td>This place was pleasing to me. Very nice staff...</td>\n",
       "      <td>5.0</td>\n",
       "      <td>0x809ad993cd15cc69:0x38291ec9a11f59ed</td>\n",
       "    </tr>\n",
       "    <tr>\n",
       "      <th>4</th>\n",
       "      <td>Tough lady loves great pressure massage. Woohoo.</td>\n",
       "      <td>5.0</td>\n",
       "      <td>0x809ad993cd15cc69:0x38291ec9a11f59ed</td>\n",
       "    </tr>\n",
       "  </tbody>\n",
       "</table>\n",
       "</div>"
      ],
      "text/plain": [
       "                                                text  rating  \\\n",
       "0  Helped me alot. If it was for her suggesting m...     5.0   \n",
       "1  Always leave feeling refreshed...polite and re...     5.0   \n",
       "2  Professional massage place.  The ladies know w...     5.0   \n",
       "3  This place was pleasing to me. Very nice staff...     5.0   \n",
       "4   Tough lady loves great pressure massage. Woohoo.     5.0   \n",
       "\n",
       "                                 gmap_id  \n",
       "0  0x809ad993cd15cc69:0x38291ec9a11f59ed  \n",
       "1  0x809ad993cd15cc69:0x38291ec9a11f59ed  \n",
       "2  0x809ad993cd15cc69:0x38291ec9a11f59ed  \n",
       "3  0x809ad993cd15cc69:0x38291ec9a11f59ed  \n",
       "4  0x809ad993cd15cc69:0x38291ec9a11f59ed  "
      ]
     },
     "execution_count": 1,
     "metadata": {},
     "output_type": "execute_result"
    }
   ],
   "source": [
    "import pandas as pd\n",
    "\n",
    "reviews = pd.read_json('data/yolosac-reviews.json')\n",
    "\n",
    "reviews.head()"
   ]
  },
  {
   "cell_type": "code",
   "execution_count": 46,
   "metadata": {},
   "outputs": [
    {
     "name": "stdout",
     "output_type": "stream",
     "text": [
      "[('They have a well layed out menu board and the cashier gave some helpful suggestions. Ended up ordering the Supreme Cheese Steak and a side salad.\\nTasty sandwich & basic ceaser prepared quickly.', 'positive'), (\"Best massage I've had, which included great back walking and deep tissue. I've been here several times. Each time has been better than the last. I'm not sure why some of the other reviewers had a bad experience, but have to say I have not. I simply schedule the appointment and they've been ready for me every time.\", 'positive'), (\"I've been getting massages about once a week for the past 16 years.  My massage tonight was arguably the worst massage I've ever received.  I asked her (Maria) how long she had been doing massage and she told me 2 weeks.  Seems about right....ridiculous.  Then when I tipped her (which I REALLY didn't want to do in the first place) she had the nerve to ask me for a bigger tip.  Unless you want to waste your money on a worthless massage, I wouldn't recommend going here.\", 'negative'), ('Bad experience, I have an appointment for one hour and when I arrived the manager told me that all staff are busy and we are about to close so you have to pay for half hour later they did a quick massage for me about 20 minutes and it was so unprofessional. Didn’t recommend this place unless you don’t know how to burn your money!!', 'negative'), (\"Very flaky bad place don't waste your money or time. Showed up after making appointment. They couldn't help me. Don't go. Very umprofessional\", 'negative'), ('Worst massage I ever had.\\n\\nCustomer service is terrible on the phone and in person. I called for an appointment and after she said \"ok\", she hung up...no name or info to go with the appointment!\\n\\nCame in to have a knot below my left shoulder blade massaged out. I was told 30 mins for a back only massage. There was little to no pressure applied and was insisted to go to the hospital (5 mins into the massage). I explained I woke up like this, nothing truly serious.\\n\\nShe left twice to answer the door chime and came back a min later each time. Not a good way to keep track of 30 mins ($40) or giving a good massage for that matter.\\n\\nI decided not to tip either. She said I had to! So I gave 10%.\\n\\nNot recommended at all. I will never come back here!', 'negative'), ('The ladies were very kind & friendly. Did not feel uncomfortable at all.', 'positive'), ('Have called to make an appointment with one specific message therapist. Was told she is available and when I went, she was not. They lied to me. Eventually, had to opt for another and it was not good.', 'negative'), ('Badly', 'negative'), ('(Translated by Google) The masaage was suprisingly very good\\n\\n(Original)\\nThe masaage was suprisingly very good', 'positive'), ('They have a well layed out menu board and the cashier gave some helpful suggestions. Ended up ordering the Supreme Cheese Steak and a side salad.\\nTasty sandwich & basic ceaser prepared quickly.', 'positive'), (\"Best massage I've had, which included great back walking and deep tissue. I've been here several times. Each time has been better than the last. I'm not sure why some of the other reviewers had a bad experience, but have to say I have not. I simply schedule the appointment and they've been ready for me every time.\", 'positive'), (\"I've been getting massages about once a week for the past 16 years.  My massage tonight was arguably the worst massage I've ever received.  I asked her (Maria) how long she had been doing massage and she told me 2 weeks.  Seems about right....ridiculous.  Then when I tipped her (which I REALLY didn't want to do in the first place) she had the nerve to ask me for a bigger tip.  Unless you want to waste your money on a worthless massage, I wouldn't recommend going here.\", 'negative'), ('Bad experience, I have an appointment for one hour and when I arrived the manager told me that all staff are busy and we are about to close so you have to pay for half hour later they did a quick massage for me about 20 minutes and it was so unprofessional. Didn’t recommend this place unless you don’t know how to burn your money!!', 'negative'), (\"Very flaky bad place don't waste your money or time. Showed up after making appointment. They couldn't help me. Don't go. Very umprofessional\", 'negative'), ('Worst massage I ever had.\\n\\nCustomer service is terrible on the phone and in person. I called for an appointment and after she said \"ok\", she hung up...no name or info to go with the appointment!\\n\\nCame in to have a knot below my left shoulder blade massaged out. I was told 30 mins for a back only massage. There was little to no pressure applied and was insisted to go to the hospital (5 mins into the massage). I explained I woke up like this, nothing truly serious.\\n\\nShe left twice to answer the door chime and came back a min later each time. Not a good way to keep track of 30 mins ($40) or giving a good massage for that matter.\\n\\nI decided not to tip either. She said I had to! So I gave 10%.\\n\\nNot recommended at all. I will never come back here!', 'negative'), ('The ladies were very kind & friendly. Did not feel uncomfortable at all.', 'positive'), ('Have called to make an appointment with one specific message therapist. Was told she is available and when I went, she was not. They lied to me. Eventually, had to opt for another and it was not good.', 'negative'), ('Badly', 'negative'), ('(Translated by Google) The masaage was suprisingly very good\\n\\n(Original)\\nThe masaage was suprisingly very good', 'positive')]\n",
      "Accuracy: 1.0\n",
      "Sentiment: negative\n"
     ]
    }
   ],
   "source": [
    "# sample bigram classification from medium website\n",
    "import nltk\n",
    "from nltk.classify import NaiveBayesClassifier\n",
    "from nltk.util import ngrams\n",
    "\n",
    "# Function to extract bigrams from a text\n",
    "def extract_bigrams(text):\n",
    "    return list(ngrams(text.split(), 2))\n",
    "\n",
    "gmap_id = \"0x809ad68a4b531825:0x635fa3c8560daf3c\"\n",
    "some = reviews.loc[(reviews['gmap_id'] == gmap_id)]\n",
    "rev = [(t, \"positive\" if r > 3 else \"negative\") for t, r in zip(some.text.tolist(), some.rating.tolist())]\n",
    "print(rev)\n",
    "\n",
    "# Combine the reviews into a single dataset\n",
    "\n",
    "# Split the data into training and testing sets\n",
    "training_data = rev[:int(0.8 * len(rev))]\n",
    "testing_data = rev[int(0.8 * len(rev)):]\n",
    "\n",
    "# Extract bigrams from the reviews and create a feature set\n",
    "features = [(dict(extract_bigrams(review)), label) for (review, label) in training_data]\n",
    "\n",
    "# Train a Naive Bayes classifier on the feature set\n",
    "classifier = NaiveBayesClassifier.train(features)\n",
    "\n",
    "# Evaluate the classifier on the testing data\n",
    "accuracy = nltk.classify.accuracy(classifier, [(dict(extract_bigrams(review)), label) for (review, label) in testing_data])\n",
    "print(\"Accuracy:\", accuracy)\n",
    "\n",
    "# Predict the sentiment of a new review\n",
    "review = \"good\"\n",
    "bigrams = extract_bigrams(review)\n",
    "sentiment = classifier.classify(dict(bigrams))\n",
    "print(\"Sentiment:\", sentiment)"
   ]
  }
 ],
 "metadata": {
  "kernelspec": {
   "display_name": "Python 3",
   "language": "python",
   "name": "python3"
  },
  "language_info": {
   "codemirror_mode": {
    "name": "ipython",
    "version": 3
   },
   "file_extension": ".py",
   "mimetype": "text/x-python",
   "name": "python",
   "nbconvert_exporter": "python",
   "pygments_lexer": "ipython3",
   "version": "3.10.11"
  }
 },
 "nbformat": 4,
 "nbformat_minor": 2
}
