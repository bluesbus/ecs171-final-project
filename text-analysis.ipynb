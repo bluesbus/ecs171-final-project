{
 "cells": [
  {
   "cell_type": "code",
   "execution_count": 1,
   "metadata": {},
   "outputs": [
    {
     "data": {
      "text/html": [
       "<div>\n",
       "<style scoped>\n",
       "    .dataframe tbody tr th:only-of-type {\n",
       "        vertical-align: middle;\n",
       "    }\n",
       "\n",
       "    .dataframe tbody tr th {\n",
       "        vertical-align: top;\n",
       "    }\n",
       "\n",
       "    .dataframe thead th {\n",
       "        text-align: right;\n",
       "    }\n",
       "</style>\n",
       "<table border=\"1\" class=\"dataframe\">\n",
       "  <thead>\n",
       "    <tr style=\"text-align: right;\">\n",
       "      <th></th>\n",
       "      <th>text</th>\n",
       "      <th>rating</th>\n",
       "      <th>gmap_id</th>\n",
       "    </tr>\n",
       "  </thead>\n",
       "  <tbody>\n",
       "    <tr>\n",
       "      <th>0</th>\n",
       "      <td>Helped me alot. If it was for her suggesting m...</td>\n",
       "      <td>5.0</td>\n",
       "      <td>0x809ad993cd15cc69:0x38291ec9a11f59ed</td>\n",
       "    </tr>\n",
       "    <tr>\n",
       "      <th>1</th>\n",
       "      <td>Always leave feeling refreshed...polite and re...</td>\n",
       "      <td>5.0</td>\n",
       "      <td>0x809ad993cd15cc69:0x38291ec9a11f59ed</td>\n",
       "    </tr>\n",
       "    <tr>\n",
       "      <th>2</th>\n",
       "      <td>Professional massage place.  The ladies know w...</td>\n",
       "      <td>5.0</td>\n",
       "      <td>0x809ad993cd15cc69:0x38291ec9a11f59ed</td>\n",
       "    </tr>\n",
       "    <tr>\n",
       "      <th>3</th>\n",
       "      <td>This place was pleasing to me. Very nice staff...</td>\n",
       "      <td>5.0</td>\n",
       "      <td>0x809ad993cd15cc69:0x38291ec9a11f59ed</td>\n",
       "    </tr>\n",
       "    <tr>\n",
       "      <th>4</th>\n",
       "      <td>Tough lady loves great pressure massage. Woohoo.</td>\n",
       "      <td>5.0</td>\n",
       "      <td>0x809ad993cd15cc69:0x38291ec9a11f59ed</td>\n",
       "    </tr>\n",
       "  </tbody>\n",
       "</table>\n",
       "</div>"
      ],
      "text/plain": [
       "                                                text  rating  \\\n",
       "0  Helped me alot. If it was for her suggesting m...     5.0   \n",
       "1  Always leave feeling refreshed...polite and re...     5.0   \n",
       "2  Professional massage place.  The ladies know w...     5.0   \n",
       "3  This place was pleasing to me. Very nice staff...     5.0   \n",
       "4   Tough lady loves great pressure massage. Woohoo.     5.0   \n",
       "\n",
       "                                 gmap_id  \n",
       "0  0x809ad993cd15cc69:0x38291ec9a11f59ed  \n",
       "1  0x809ad993cd15cc69:0x38291ec9a11f59ed  \n",
       "2  0x809ad993cd15cc69:0x38291ec9a11f59ed  \n",
       "3  0x809ad993cd15cc69:0x38291ec9a11f59ed  \n",
       "4  0x809ad993cd15cc69:0x38291ec9a11f59ed  "
      ]
     },
     "execution_count": 1,
     "metadata": {},
     "output_type": "execute_result"
    }
   ],
   "source": [
    "import pandas as pd\n",
    "\n",
    "reviews = pd.read_json('data/yolosac-reviews.json')\n",
    "\n",
    "reviews.head()"
   ]
  },
  {
   "cell_type": "code",
   "execution_count": 64,
   "metadata": {},
   "outputs": [
    {
     "name": "stdout",
     "output_type": "stream",
     "text": [
      "[('massage', 54), ('back', 32), ('I', 22), ('massages', 14), ('great', 14), ('Great', 14), ('come', 14), ('good', 12), ('got', 12), ('time', 10), ('My', 10), ('knots', 10), ('staff', 8), ('place', 8), ('The', 8), ('nice', 8), ('quite', 8), ('one', 8), ('therapist', 8), ('Would', 8), ('last', 8), ('minute', 8), ('fixed', 8), ('always', 8), (\"n't\", 8), ('body', 8), ('pain', 6), ('Good', 6), ('hour', 6), ('sure', 6), ('muscle', 6), ('day', 6), ('working', 6), ('better', 6), ('service', 6), ('If', 4), ('go', 4), ('would', 4), ('She', 4), ('...', 4), ('amazing', 4), ('Professional', 4), ('ladies', 4), ('excellent', 4), ('job', 4), ('This', 4), ('Very', 4), ('satisfied', 4), ('lady', 4), ('best', 4), ('like', 4), ('They', 4), ('busy', 4), ('Just', 4), ('book', 4), ('experience', 4), ('every', 4), ('Came', 4), ('We', 4), ('able', 4), ('get', 4), ('feel', 4), ('45/hr', 4), ('Therapists', 4), ('rush', 4), ('soon', 4), ('price', 4), ('town', 4), ('feels', 4), ('Asian', 4), ('much', 4), ('session', 4), ('wonderful', 4), ('us', 4), ('wife', 4), ('couple', 4), ('another', 4), ('Thanks', 4), ('guys', 4), ('hot', 4), ('tip', 4), ('Thank', 4), ('felt', 4), ('worked', 4), ('Swedish', 4), ('Ca', 4), ('wait', 4), ('1', 4), ('table', 4), ('shower', 4), ('Helped', 2), ('alot', 2), ('suggesting', 2), ('see', 2), ('chiropractor', 2), (\"'ve\", 2), ('dealt', 2), ('life', 2), (\"'s\", 2), ('truly', 2), ('hero', 2), ('Always', 2), ('leave', 2), ('feeling', 2), ('refreshed', 2), ('polite', 2), ('respectful', 2), ('hands', 2), ('know', 2), (\"'re\", 2), ('pleasing', 2), ('made', 2), ('everything', 2), ('Tough', 2), ('loves', 2), ('pressure', 2), ('Woohoo', 2), ('Found', 2), ('spot', 2), ('luck', 2), ('a+', 2), ('Wow', 2), ('Yummy', 2), ('One', 2), ('ever', 2), ('Authentic', 2), ('professional', 2), ('honest', 2), ('yet', 2), ('sensual', 2), ('exciting', 2), ('Ill', 2), ('Ok', 2), ('3rd', 2), ('..', 2), ('Different', 2), ('girl', 2), ('truely', 2), ('exceptional', 2), ('slow', 2), ('sensuous', 2), ('ask', 2), ('Linda', 2), ('Tell', 2), ('J', 2), ('sent', 2), ('ya', 2), ('seem', 2), ('popular', 2), ('sometimes', 2), ('ahead', 2), ('therapists', 2), ('BEEN', 2), ('THIS', 2), ('PLACE', 2), ('FOR', 2), ('YEARS', 2), ('THE', 2), ('CHINESE', 2), ('LADIES', 2), ('WORK', 2), ('TOUGH', 2), ('Massage', 2), ('imagined', 2), ('finding', 2), ('problem', 2), ('areas', 2), ('tasting', 2), ('attention', 2), ('needed', 2), ('mastering', 2), ('various', 2), ('Cool', 2), ('soreness', 2), ('third', 2), ('60', 2), ('2', 2), ('weeks', 2), ('flexible', 2), ('appointments', 2), ('well', 2), ('appointment', 2), ('love', 2), ('everyone', 2), ('super', 2), ('friendly', 2), ('As', 2), ('relaxed', 2), ('comfortable', 2), ('Price', 2), ('Reminder', 2), ('business', 2), ('changed', 2), ('recently', 2), ('From', 2), ('9:30', 2), ('A.M.', 2), ('8:30', 2), ('P.M', 2), ('especially', 2), ('keep', 2), ('smaller', 2), ('Will', 2), ('fantastic', 2), ('--', 2), ('inexpensive', 2), ('down-to-earth', 2), ('skillful', 2), ('Literally', 2), ('Back', 2), ('shoulders', 2), ('Knots', 2), ('accurately', 2), ('finger', 2), ('press', 2), ('looking', 2), ('couples', 2), ('Saturday', 2), ('night', 2), ('accommodate', 2), ('affordable', 2), ('deserved', 2), ('tips', 2), ('Booked', 2), ('friend', 2), ('Tight', 2), ('week', 2), ('real', 2), ('It', 2), (\"'d\", 2), ('never', 2), ('experienced', 2), ('Well', 2), ('done', 2), ('stones', 2), ('Excellent', 2), ('tried', 2), ('whim', 2), ('loved', 2), ('Staff', 2), ('enjoyable', 2), ('attentive', 2), ('make', 2), ('accordingly', 2), ('count', 2), ('therapy', 2), ('Me', 2), ('relaxing', 2), ('pain-curing', 2), ('private', 2), ('room', 2), ('work', 2), ('took', 2), ('tight', 2), ('shoulder', 2), ('Aurora', 2), ('king', 2), ('Called', 2), ('1-hr', 2), ('exhausted', 2), ('Plan', 2), ('driving', 2), ('neck', 2), ('new', 2), ('coming', 2), ('Definitely', 2), ('going', 2), ('sister', 2), ('Along', 2), ('stone', 2), ('walking', 2), ('whole', 2), ('heaven', 2), ('40/hr', 2), ('person', 2), ('steal', 2), ('Tui-na', 2), ('deep', 2), ('tissue', 2), ('followed', 2), ('lots', 2), ('stretching', 2), ('later', 2), ('seemed', 2), ('vanish', 2), ('bit', 2), ('Parking', 2), ('staffs', 2), ('sweet', 2), ('hr', 2), ('40', 2), ('covered', 2), ('many', 2), ('sections', 2), ('totally', 2), ('uuu', 2), ('Lily', 2), ('cool', 2), ('next', 2), ('Katie', 2), ('Competent', 2), ('Translated', 2), ('Google', 2), ('Original', 2), ('Buen', 2), ('servicio', 2)]\n"
     ]
    }
   ],
   "source": [
    "from string import punctuation\n",
    "import nltk\n",
    "from nltk.corpus import stopwords\n",
    "from nltk.tokenize import word_tokenize\n",
    "from nltk.probability import FreqDist\n",
    "\n",
    "gmap_id = \"0x809ad993cd15cc69:0x38291ec9a11f59ed\"\n",
    "rating = 5\n",
    "\n",
    "def business_common_review_words(gmap_id, rating):\n",
    "    some = reviews.loc[(reviews['gmap_id'] == gmap_id) & (reviews['rating'] == rating)].text.explode().tolist()\n",
    "\n",
    "    tokens = []\n",
    "    for review in some:\n",
    "        tokens += word_tokenize(review)\n",
    "\n",
    "    stop_words = stopwords.words('english')\n",
    "    filtered = [word for word in tokens if word not in stop_words and word not in punctuation]\n",
    "\n",
    "    return FreqDist(filtered).most_common()\n",
    "\n",
    "massage = business_common_review_words(gmap_id, rating)\n",
    "print(massage)"
   ]
  }
 ],
 "metadata": {
  "kernelspec": {
   "display_name": "Python 3",
   "language": "python",
   "name": "python3"
  },
  "language_info": {
   "codemirror_mode": {
    "name": "ipython",
    "version": 3
   },
   "file_extension": ".py",
   "mimetype": "text/x-python",
   "name": "python",
   "nbconvert_exporter": "python",
   "pygments_lexer": "ipython3",
   "version": "3.9.2"
  }
 },
 "nbformat": 4,
 "nbformat_minor": 2
}
