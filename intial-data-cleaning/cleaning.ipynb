{
 "cells": [
  {
   "cell_type": "code",
   "execution_count": 11,
   "metadata": {},
   "outputs": [],
   "source": [
    "# base json file needs to be encased on [] and have a comma separating each item\n",
    "# modifies the json file to be readable. into business.json\n",
    "\n",
    "import os.path\n",
    "\n",
    "def reformatJson():\n",
    "    with open('data/meta-California.json', 'r') as infile, open('data/business.json', 'w') as outfile:\n",
    "        outfile.write('[\\n')\n",
    "        lines = infile.readlines()\n",
    "\n",
    "        # adds comma to every line except last\n",
    "        for i, line in enumerate(lines):\n",
    "            if i < len(lines) - 1: line = line.rstrip() + ',\\n'\n",
    "            outfile.write(line)\n",
    "\n",
    "        outfile.write(']')\n",
    "        \n",
    "if not os.path.isfile('data/business.json') : reformatJson()"
   ]
  },
  {
   "cell_type": "code",
   "execution_count": 1,
   "metadata": {},
   "outputs": [],
   "source": [
    "import pandas as pd\n",
    "cali = pd.read_json('data/business.json')"
   ]
  },
  {
   "cell_type": "code",
   "execution_count": 2,
   "metadata": {},
   "outputs": [
    {
     "data": {
      "text/plain": [
       "['name', 'address', 'gmap_id', 'category', 'avg_rating', 'num_of_reviews']"
      ]
     },
     "execution_count": 2,
     "metadata": {},
     "output_type": "execute_result"
    }
   ],
   "source": [
    "dropped = cali.drop(columns=['price', 'description', 'MISC', 'state', 'url', 'relative_results', 'latitude', 'longitude', 'hours'])\n",
    "dropped = dropped.dropna()\n",
    "dropped.columns.tolist()"
   ]
  },
  {
   "cell_type": "code",
   "execution_count": 3,
   "metadata": {},
   "outputs": [
    {
     "data": {
      "text/html": [
       "<div>\n",
       "<style scoped>\n",
       "    .dataframe tbody tr th:only-of-type {\n",
       "        vertical-align: middle;\n",
       "    }\n",
       "\n",
       "    .dataframe tbody tr th {\n",
       "        vertical-align: top;\n",
       "    }\n",
       "\n",
       "    .dataframe thead th {\n",
       "        text-align: right;\n",
       "    }\n",
       "</style>\n",
       "<table border=\"1\" class=\"dataframe\">\n",
       "  <thead>\n",
       "    <tr style=\"text-align: right;\">\n",
       "      <th></th>\n",
       "      <th>name</th>\n",
       "      <th>gmap_id</th>\n",
       "      <th>category</th>\n",
       "      <th>avg_rating</th>\n",
       "      <th>num_of_reviews</th>\n",
       "    </tr>\n",
       "  </thead>\n",
       "  <tbody>\n",
       "    <tr>\n",
       "      <th>13</th>\n",
       "      <td>Aurora Massage</td>\n",
       "      <td>0x809ad993cd15cc69:0x38291ec9a11f59ed</td>\n",
       "      <td>[Massage therapist]</td>\n",
       "      <td>4.2</td>\n",
       "      <td>56</td>\n",
       "    </tr>\n",
       "    <tr>\n",
       "      <th>15</th>\n",
       "      <td>Orient Massage</td>\n",
       "      <td>0x809adee9ac6f1bd7:0xe2e56d16919b9b8d</td>\n",
       "      <td>[Massage therapist]</td>\n",
       "      <td>3.6</td>\n",
       "      <td>15</td>\n",
       "    </tr>\n",
       "    <tr>\n",
       "      <th>18</th>\n",
       "      <td>Porvene Doors</td>\n",
       "      <td>0x809ad7b6234f1ff9:0xe5622114044a3a90</td>\n",
       "      <td>[Door supplier]</td>\n",
       "      <td>4.0</td>\n",
       "      <td>4</td>\n",
       "    </tr>\n",
       "    <tr>\n",
       "      <th>23</th>\n",
       "      <td>Origin Church</td>\n",
       "      <td>0x809b2063472fb85b:0x7d6aad89aefc4aea</td>\n",
       "      <td>[Church]</td>\n",
       "      <td>5.0</td>\n",
       "      <td>8</td>\n",
       "    </tr>\n",
       "    <tr>\n",
       "      <th>25</th>\n",
       "      <td>Life Pointe Church</td>\n",
       "      <td>0x8084d0c62e26baa9:0x8829fbf306ee0c41</td>\n",
       "      <td>[Church]</td>\n",
       "      <td>4.7</td>\n",
       "      <td>17</td>\n",
       "    </tr>\n",
       "  </tbody>\n",
       "</table>\n",
       "</div>"
      ],
      "text/plain": [
       "                  name                                gmap_id  \\\n",
       "13      Aurora Massage  0x809ad993cd15cc69:0x38291ec9a11f59ed   \n",
       "15      Orient Massage  0x809adee9ac6f1bd7:0xe2e56d16919b9b8d   \n",
       "18       Porvene Doors  0x809ad7b6234f1ff9:0xe5622114044a3a90   \n",
       "23       Origin Church  0x809b2063472fb85b:0x7d6aad89aefc4aea   \n",
       "25  Life Pointe Church  0x8084d0c62e26baa9:0x8829fbf306ee0c41   \n",
       "\n",
       "               category  avg_rating  num_of_reviews  \n",
       "13  [Massage therapist]         4.2              56  \n",
       "15  [Massage therapist]         3.6              15  \n",
       "18      [Door supplier]         4.0               4  \n",
       "23             [Church]         5.0               8  \n",
       "25             [Church]         4.7              17  "
      ]
     },
     "execution_count": 3,
     "metadata": {},
     "output_type": "execute_result"
    }
   ],
   "source": [
    "yolo_county = [\"Davis\", \"Woodland\", \"West Sacramento\", \"Winters\"]\n",
    "sac_county = [\"Sacramento\", \"Elk Grove\", \"Citrus Heights\", \"Folsom\", \"Rancho Cordova\", \"Galt\", \"Isleton\"]\n",
    "\n",
    "target_cities = yolo_county + sac_county\n",
    "\n",
    "# is the address in the target cities list\n",
    "def city_filter (row) :\n",
    "    try: return row.address.split(', ')[2] in target_cities\n",
    "    except: return False\n",
    "\n",
    "yolosac = dropped[dropped.apply(city_filter, axis=1)]\n",
    "yolosac = yolosac.drop(columns=[\"address\"])\n",
    "\n",
    "yolosac.head()\n"
   ]
  },
  {
   "cell_type": "code",
   "execution_count": 4,
   "metadata": {},
   "outputs": [],
   "source": [
    "with open('yolosac.csv', 'w') as outfile:\n",
    "    outfile.write(yolosac.to_csv(index=False))"
   ]
  }
 ],
 "metadata": {
  "kernelspec": {
   "display_name": "Python 3",
   "language": "python",
   "name": "python3"
  },
  "language_info": {
   "codemirror_mode": {
    "name": "ipython",
    "version": 3
   },
   "file_extension": ".py",
   "mimetype": "text/x-python",
   "name": "python",
   "nbconvert_exporter": "python",
   "pygments_lexer": "ipython3",
   "version": "3.11.5"
  }
 },
 "nbformat": 4,
 "nbformat_minor": 2
}
